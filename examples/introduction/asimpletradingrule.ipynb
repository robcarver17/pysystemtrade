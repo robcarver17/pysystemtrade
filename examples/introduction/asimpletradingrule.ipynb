{
 "cells": [
  {
   "cell_type": "code",
   "execution_count": 1,
   "metadata": {
    "pycharm": {
     "name": "#%%\n"
    }
   },
   "outputs": [],
   "source": []
  },
  {
   "cell_type": "code",
   "execution_count": 1,
   "metadata": {
    "pycharm": {
     "name": "#%%\n"
    }
   },
   "outputs": [],
   "source": []
  },
  {
   "cell_type": "code",
   "execution_count": 2,
   "metadata": {
    "pycharm": {
     "name": "#%%\n"
    }
   },
   "outputs": [],
   "source": [
    "import sys"
   ]
  },
  {
   "cell_type": "markdown",
   "metadata": {},
   "source": [
    "# Simple Trading Rule"
   ]
  },
  {
   "cell_type": "code",
   "execution_count": 3,
   "metadata": {},
   "outputs": [],
   "source": [
    "# from sysdata.csv.csv_sim_futures_data import csvFuturesData\n",
    "from sysdata.csv.csv_sim_futures_data import csvFuturesSimData\n",
    "\n",
    "\n",
    "\n",
    "\n",
    "import matplotlib.pyplot as plt\n",
    "%matplotlib inline"
   ]
  },
  {
   "cell_type": "code",
   "execution_count": 4,
   "outputs": [],
   "source": [
    "from sysdata.csv.csv_sim_futures_data import csvFuturesSimData"
   ],
   "metadata": {
    "collapsed": false,
    "pycharm": {
     "name": "#%%\n"
    }
   }
  },
  {
   "cell_type": "markdown",
   "metadata": {},
   "source": [
    "Work up a minimum example of a trend following system"
   ]
  },
  {
   "cell_type": "code",
   "execution_count": 4,
   "metadata": {
    "collapsed": true
   },
   "outputs": [],
   "source": []
  },
  {
   "cell_type": "markdown",
   "metadata": {},
   "source": [
    "Let's get some data\n",
    "\n",
    "We can get data from various places; however for now we're going to use\n",
    "prepackaged 'legacy' data stored in csv files"
   ]
  },
  {
   "cell_type": "code",
   "execution_count": 5,
   "metadata": {},
   "outputs": [
    {
     "data": {
      "text/plain": "csvFuturesSimData for 38 instruments"
     },
     "execution_count": 5,
     "metadata": {},
     "output_type": "execute_result"
    }
   ],
   "source": [
    "data = csvFuturesSimData()\n",
    "data"
   ]
  },
  {
   "cell_type": "markdown",
   "metadata": {},
   "source": [
    "We get stuff out of data with methods"
   ]
  },
  {
   "cell_type": "code",
   "execution_count": 6,
   "outputs": [
    {
     "data": {
      "text/plain": "csvFuturesSimData for 38 instruments"
     },
     "execution_count": 6,
     "metadata": {},
     "output_type": "execute_result"
    }
   ],
   "source": [
    "data"
   ],
   "metadata": {
    "collapsed": false,
    "pycharm": {
     "name": "#%%\n"
    }
   }
  },
  {
   "cell_type": "code",
   "execution_count": 7,
   "metadata": {},
   "outputs": [
    {
     "name": "stdout",
     "output_type": "stream",
     "text": [
      "['KR10', 'WHEAT', 'US20', 'CAC', 'BTP', 'GAS_US', 'PALLAD', 'US5', 'BOBL', 'NZD', 'LIVECOW', 'SMI', 'SP500', 'SHATZ', 'SOYBEAN', 'LEANHOG', 'AEX', 'CORN', 'OAT', 'PLAT', 'CRUDE_W', 'KOSPI', 'GOLD', 'NASDAQ', 'KR3', 'GBP', 'COPPER', 'AUD', 'VIX', 'MXP', 'US2', 'BUND', 'EDOLLAR', 'US10', 'V2X', 'EUROSTX', 'JPY', 'EUR']\n",
      "index\n",
      "2019-11-11 23:00:00        NaN\n",
      "2019-11-12 23:00:00        NaN\n",
      "2019-11-13 23:00:00        NaN\n",
      "2019-11-14 19:36:14    98.4325\n",
      "2019-11-14 23:00:00    98.4250\n",
      "Name: price, dtype: float64\n"
     ]
    }
   ],
   "source": [
    "print(data.get_instrument_list())\n",
    "print(data.get_raw_price(\"EDOLLAR\").tail(5))"
   ]
  },
  {
   "cell_type": "markdown",
   "metadata": {},
   "source": [
    "data can also behave in a dict like manner (though it's not a dict)"
   ]
  },
  {
   "cell_type": "code",
   "execution_count": 8,
   "metadata": {},
   "outputs": [
    {
     "data": {
      "text/plain": "index\n1997-09-10 00:00:00   -1735.9525\n1997-09-11 00:00:00   -1742.9525\n1997-09-12 00:00:00   -1726.9525\n1997-09-15 00:00:00   -1728.9525\n1997-09-16 00:00:00   -1704.9525\n                         ...    \n2020-03-17 16:27:45    2498.8750\n2020-03-17 17:28:02    2445.3750\n2020-03-17 23:00:00    2485.5000\n2020-03-18 14:02:49    2410.3750\n2020-03-18 15:03:18    2390.7500\nName: price, Length: 9386, dtype: float64"
     },
     "execution_count": 8,
     "metadata": {},
     "output_type": "execute_result"
    }
   ],
   "source": [
    "data['SP500']"
   ]
  },
  {
   "cell_type": "code",
   "execution_count": 9,
   "metadata": {},
   "outputs": [
    {
     "data": {
      "text/plain": "['KR10',\n 'WHEAT',\n 'US20',\n 'CAC',\n 'BTP',\n 'GAS_US',\n 'PALLAD',\n 'US5',\n 'BOBL',\n 'NZD',\n 'LIVECOW',\n 'SMI',\n 'SP500',\n 'SHATZ',\n 'SOYBEAN',\n 'LEANHOG',\n 'AEX',\n 'CORN',\n 'OAT',\n 'PLAT',\n 'CRUDE_W',\n 'KOSPI',\n 'GOLD',\n 'NASDAQ',\n 'KR3',\n 'GBP',\n 'COPPER',\n 'AUD',\n 'VIX',\n 'MXP',\n 'US2',\n 'BUND',\n 'EDOLLAR',\n 'US10',\n 'V2X',\n 'EUROSTX',\n 'JPY',\n 'EUR']"
     },
     "execution_count": 9,
     "metadata": {},
     "output_type": "execute_result"
    }
   ],
   "source": [
    "data.keys()"
   ]
  },
  {
   "cell_type": "markdown",
   "metadata": {},
   "source": [
    "... however this will only access prices\n",
    "(note these prices have already been backadjusted for rolls)\n",
    "\n",
    "We have extra futures data here"
   ]
  },
  {
   "cell_type": "code",
   "execution_count": 10,
   "outputs": [
    {
     "name": "stdout",
     "output_type": "stream",
     "text": [
      "index\n",
      "2020-03-18 10:21:02    1.20520\n",
      "2020-03-18 11:21:44    1.19475\n",
      "2020-03-18 12:23:01    1.18940\n",
      "2020-03-18 13:25:15    1.18730\n",
      "2020-03-18 14:38:02    1.18320\n",
      "Name: price, dtype: float64\n",
      "index\n",
      "2020-03-17 15:48:06    0.60080\n",
      "2020-03-17 16:53:58    0.59715\n",
      "2020-03-17 17:54:41    0.59825\n",
      "2020-03-17 18:55:58    0.59870\n",
      "2020-03-17 23:00:00    0.59940\n",
      "Name: price, dtype: float64\n",
      "index\n",
      "2020-03-17 15:45:27    44.700\n",
      "2020-03-17 16:52:01    46.075\n",
      "2020-03-17 17:52:22    45.375\n",
      "2020-03-17 18:54:00    45.850\n",
      "2020-03-17 23:00:00    48.700\n",
      "Name: price, dtype: float64\n",
      "index\n",
      "2020-03-18 10:36:53    169.670\n",
      "2020-03-18 11:37:10    169.800\n",
      "2020-03-18 12:41:47    169.435\n",
      "2020-03-18 13:43:13    169.415\n",
      "2020-03-18 14:56:04    169.405\n",
      "Name: price, dtype: float64\n",
      "index\n",
      "2020-03-18 10:00:43    48.825\n",
      "2020-03-18 11:01:01    49.750\n",
      "2020-03-18 12:13:54    49.925\n",
      "2020-03-18 13:16:17    50.675\n",
      "2020-03-18 14:29:15    50.150\n",
      "Name: price, dtype: float64\n",
      "index\n",
      "2020-03-18 12:10:09    2340.5\n",
      "2020-03-18 13:12:16    2336.5\n",
      "2020-03-18 14:25:29    2375.5\n",
      "2020-03-18 14:25:30    2375.5\n",
      "2020-03-18 14:25:31    2375.5\n",
      "Name: price, dtype: float64\n"
     ]
    }
   ],
   "source": [
    "print(data['GBP'].tail()),\n",
    "print(data['AUD'].tail())\n",
    "print(data['VIX'].tail())\n",
    "print(data['BUND'].tail())\n",
    "print(data['V2X'].tail())\n",
    "print(data['EUROSTX'].tail())"
   ],
   "metadata": {
    "collapsed": false,
    "pycharm": {
     "name": "#%%\n"
    }
   }
  },
  {
   "cell_type": "code",
   "execution_count": 11,
   "metadata": {},
   "outputs": [
    {
     "data": {
      "text/plain": "                       PRICE  CARRY PRICE_CONTRACT CARRY_CONTRACT\nindex                                                            \n2020-03-17 19:31:30  99.1925    NaN         202303         202212\n2020-03-17 23:00:00  99.2100  99.24         202303         202212\n2020-03-18 12:00:11  99.1675    NaN         202303         202212\n2020-03-18 13:00:44  99.1450    NaN         202303         202212\n2020-03-18 14:04:36  99.1725    NaN         202303         202212\n2020-03-18 15:12:40  99.1950    NaN         202303         202212",
      "text/html": "<div>\n<style scoped>\n    .dataframe tbody tr th:only-of-type {\n        vertical-align: middle;\n    }\n\n    .dataframe tbody tr th {\n        vertical-align: top;\n    }\n\n    .dataframe thead th {\n        text-align: right;\n    }\n</style>\n<table border=\"1\" class=\"dataframe\">\n  <thead>\n    <tr style=\"text-align: right;\">\n      <th></th>\n      <th>PRICE</th>\n      <th>CARRY</th>\n      <th>PRICE_CONTRACT</th>\n      <th>CARRY_CONTRACT</th>\n    </tr>\n    <tr>\n      <th>index</th>\n      <th></th>\n      <th></th>\n      <th></th>\n      <th></th>\n    </tr>\n  </thead>\n  <tbody>\n    <tr>\n      <th>2020-03-17 19:31:30</th>\n      <td>99.1925</td>\n      <td>NaN</td>\n      <td>202303</td>\n      <td>202212</td>\n    </tr>\n    <tr>\n      <th>2020-03-17 23:00:00</th>\n      <td>99.2100</td>\n      <td>99.24</td>\n      <td>202303</td>\n      <td>202212</td>\n    </tr>\n    <tr>\n      <th>2020-03-18 12:00:11</th>\n      <td>99.1675</td>\n      <td>NaN</td>\n      <td>202303</td>\n      <td>202212</td>\n    </tr>\n    <tr>\n      <th>2020-03-18 13:00:44</th>\n      <td>99.1450</td>\n      <td>NaN</td>\n      <td>202303</td>\n      <td>202212</td>\n    </tr>\n    <tr>\n      <th>2020-03-18 14:04:36</th>\n      <td>99.1725</td>\n      <td>NaN</td>\n      <td>202303</td>\n      <td>202212</td>\n    </tr>\n    <tr>\n      <th>2020-03-18 15:12:40</th>\n      <td>99.1950</td>\n      <td>NaN</td>\n      <td>202303</td>\n      <td>202212</td>\n    </tr>\n  </tbody>\n</table>\n</div>"
     },
     "execution_count": 11,
     "metadata": {},
     "output_type": "execute_result"
    }
   ],
   "source": [
    "data.get_instrument_raw_carry_data(\"EDOLLAR\").tail(6)"
   ]
  },
  {
   "cell_type": "markdown",
   "metadata": {},
   "source": [
    "Technical note: csvFuturesData inherits from FuturesData which itself inherits\n",
    "from Data\n",
    "The chain is 'data specific' <- 'asset class specific' <- 'generic'\n",
    "\n",
    "So there are also\n",
    "\n",
    "In principal there could be an equities data\n",
    "\n",
    "Let's create a simple trading rule\n",
    "\n",
    "No capping or scaling"
   ]
  },
  {
   "cell_type": "code",
   "execution_count": 12,
   "metadata": {
    "collapsed": true
   },
   "outputs": [],
   "source": [
    "import pandas as pd\n",
    "from syscore.algos import robust_vol_calc\n",
    "\n",
    "\n",
    "def calc_ewmac_forecast(price, Lfast, Lslow=None):\n",
    "    \"\"\"\n",
    "    Calculate the ewmac trading fule forecast, given a price and EWMA speeds\n",
    "    Lfast, Lslow and vol_lookback\n",
    "\n",
    "    \"\"\"\n",
    "    # price: This is the stitched price series\n",
    "    # We can't use the price of the contract we're trading, or the volatility\n",
    "    # will be jumpy\n",
    "    # And we'll miss out on the rolldown. See\n",
    "    # http://qoppac.blogspot.co.uk/2015/05/systems-building-futures-rolling.html\n",
    "\n",
    "    price = price.resample(\"1B\").last()\n",
    "\n",
    "    if Lslow is None:\n",
    "        Lslow = 4 * Lfast\n",
    "\n",
    "    # We don't need to calculate the decay parameter, just use the span\n",
    "    # directly\n",
    "    fast_ewma = price.ewm(span=Lfast).mean()\n",
    "    slow_ewma = price.ewm(span=Lslow).mean()\n",
    "    raw_ewmac = fast_ewma - slow_ewma\n",
    "    vol = robust_vol_calc(price.diff())\n",
    "    return raw_ewmac / vol"
   ]
  },
  {
   "cell_type": "markdown",
   "metadata": {},
   "source": [
    "\n",
    "Try it out\n",
    "\n",
    "(this isn't properly scaled at this stage of course)\n"
   ]
  },
  {
   "cell_type": "code",
   "execution_count": 13,
   "metadata": {},
   "outputs": [
    {
     "data": {
      "text/plain": "index\n2020-03-12   -1.376257\n2020-03-13   -1.710991\n2020-03-16   -2.049680\n2020-03-17   -2.422312\n2020-03-18   -2.798166\nFreq: B, dtype: float64"
     },
     "execution_count": 13,
     "metadata": {},
     "output_type": "execute_result"
    }
   ],
   "source": [
    "instrument_code = 'EUROSTX'\n",
    "price = data.daily_prices(instrument_code)\n",
    "ewmac = calc_ewmac_forecast(price, 32, 128)\n",
    "ewmac.columns = ['forecast']\n",
    "ewmac.tail(5)"
   ]
  },
  {
   "cell_type": "code",
   "execution_count": 14,
   "outputs": [
    {
     "data": {
      "text/plain": "Text(0.5, 0, 'Date')"
     },
     "execution_count": 14,
     "metadata": {},
     "output_type": "execute_result"
    },
    {
     "data": {
      "text/plain": "<Figure size 432x288 with 1 Axes>",
      "image/png": "[encoded data removed]"
     },
     "metadata": {
      "needs_background": "light"
     },
     "output_type": "display_data"
    }
   ],
   "source": [
    "price.plot()\n",
    "plt.title('Data')\n",
    "plt.ylabel('Price')\n",
    "plt.xlabel('Date')"
   ],
   "metadata": {
    "collapsed": false,
    "pycharm": {
     "name": "#%%\n"
    }
   }
  },
  {
   "cell_type": "code",
   "execution_count": 15,
   "metadata": {},
   "outputs": [
    {
     "data": {
      "text/plain": "Text(0.5, 0, 'Date')"
     },
     "execution_count": 15,
     "metadata": {},
     "output_type": "execute_result"
    },
    {
     "data": {
      "text/plain": "<Figure size 432x288 with 1 Axes>",
      "image/png": "[encoded data removed]"
     },
     "metadata": {
      "needs_background": "light"
     },
     "output_type": "display_data"
    }
   ],
   "source": [
    "ewmac.plot();\n",
    "plt.title('Forecast')\n",
    "plt.ylabel('Position')\n",
    "plt.xlabel('Date')"
   ]
  },
  {
   "cell_type": "markdown",
   "metadata": {},
   "source": [
    "\n",
    "Did we make money?\n"
   ]
  },
  {
   "cell_type": "code",
   "execution_count": 16,
   "metadata": {
    "collapsed": true
   },
   "outputs": [
    {
     "name": "stdout",
     "output_type": "stream",
     "text": [
      "Object `accountCurve` not found.\n"
     ]
    }
   ],
   "source": [
    "accountCurve?"
   ]
  },
  {
   "cell_type": "code",
   "execution_count": 17,
   "metadata": {
    "scrolled": false
   },
   "outputs": [
    {
     "data": {
      "text/plain": "<Figure size 432x288 with 1 Axes>",
      "image/png": "[encoded data removed]"
     },
     "metadata": {
      "needs_background": "light"
     },
     "output_type": "display_data"
    }
   ],
   "source": [
    "from syscore.accounting import accountCurve\n",
    "account = accountCurve(price, forecast=ewmac)\n",
    "account.curve().plot();\n",
    "plt.title('Profit and Loss')\n",
    "plt.ylabel('PnL')\n",
    "plt.xlabel('Time');"
   ]
  },
  {
   "cell_type": "code",
   "execution_count": 18,
   "metadata": {},
   "outputs": [
    {
     "data": {
      "text/plain": "[[('min', '-3.137'),\n  ('max', '5.219'),\n  ('median', '0'),\n  ('mean', '-0.005473'),\n  ('std', '0.3902'),\n  ('skew', '0.1698'),\n  ('ann_mean', '-1.401'),\n  ('ann_std', '6.243'),\n  ('sharpe', '-0.2244'),\n  ('sortino', '-0.2431'),\n  ('avg_drawdown', '-7.271'),\n  ('time_in_drawdown', '0.9759'),\n  ('calmar', '-0.08771'),\n  ('avg_return_to_drawdown', '-0.1927'),\n  ('avg_loss', '-0.2471'),\n  ('avg_gain', '0.222'),\n  ('gaintolossratio', '0.8984'),\n  ('profitfactor', '0.9492'),\n  ('hitrate', '0.5137'),\n  ('t_stat', '-0.5996'),\n  ('p_value', '0.5489')],\n ('You can also plot / print:',\n  ['rolling_ann_std', 'drawdown', 'curve', 'percent', 'cumulative'])]"
     },
     "execution_count": 18,
     "metadata": {},
     "output_type": "execute_result"
    }
   ],
   "source": [
    "account.percent().stats()"
   ]
  },
  {
   "cell_type": "code",
   "execution_count": 18,
   "metadata": {
    "collapsed": true
   },
   "outputs": [],
   "source": []
  },
  {
   "cell_type": "code",
   "execution_count": 18,
   "outputs": [],
   "source": [
    "\n"
   ],
   "metadata": {
    "collapsed": false,
    "pycharm": {
     "name": "#%%\n"
    }
   }
  }
 ],
 "metadata": {
  "kernelspec": {
   "display_name": "Python 3",
   "language": "python",
   "name": "python3"
  },
  "language_info": {
   "codemirror_mode": {
    "name": "ipython",
    "version": 3
   },
   "file_extension": ".py",
   "mimetype": "text/x-python",
   "name": "python",
   "nbconvert_exporter": "python",
   "pygments_lexer": "ipython3",
   "version": "3.8.2"
  }
 },
 "nbformat": 4,
 "nbformat_minor": 1
}