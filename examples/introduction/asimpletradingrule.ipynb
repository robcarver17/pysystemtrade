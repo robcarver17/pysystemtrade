{
 "cells": [
  {
   "cell_type": "markdown",
   "metadata": {},
   "source": [
    "# Simple Trading Rule"
   ]
  },
  {
   "cell_type": "code",
   "execution_count": 1,
   "metadata": {
    "collapsed": false
   },
   "outputs": [
    {
     "ename": "ModuleNotFoundError",
     "evalue": "No module named 'sysdata.csv.csvfuturesdata'",
     "output_type": "error",
     "traceback": [
      "\u001B[0;31m---------------------------------------------------------------------------\u001B[0m",
      "\u001B[0;31mModuleNotFoundError\u001B[0m                       Traceback (most recent call last)",
      "\u001B[0;32m<ipython-input-1-e09f0a6893c0>\u001B[0m in \u001B[0;36m<module>\u001B[0;34m\u001B[0m\n\u001B[0;32m----> 1\u001B[0;31m \u001B[0;32mfrom\u001B[0m \u001B[0msysdata\u001B[0m\u001B[0;34m.\u001B[0m\u001B[0mcsv\u001B[0m\u001B[0;34m.\u001B[0m\u001B[0mcsvfuturesdata\u001B[0m \u001B[0;32mimport\u001B[0m \u001B[0mcsvFuturesData\u001B[0m\u001B[0;34m\u001B[0m\u001B[0;34m\u001B[0m\u001B[0m\n\u001B[0m\u001B[1;32m      2\u001B[0m \u001B[0;32mimport\u001B[0m \u001B[0mmatplotlib\u001B[0m\u001B[0;34m.\u001B[0m\u001B[0mpyplot\u001B[0m \u001B[0;32mas\u001B[0m \u001B[0mplt\u001B[0m\u001B[0;34m\u001B[0m\u001B[0;34m\u001B[0m\u001B[0m\n\u001B[1;32m      3\u001B[0m \u001B[0mget_ipython\u001B[0m\u001B[0;34m(\u001B[0m\u001B[0;34m)\u001B[0m\u001B[0;34m.\u001B[0m\u001B[0mrun_line_magic\u001B[0m\u001B[0;34m(\u001B[0m\u001B[0;34m'matplotlib'\u001B[0m\u001B[0;34m,\u001B[0m \u001B[0;34m'inline'\u001B[0m\u001B[0;34m)\u001B[0m\u001B[0;34m\u001B[0m\u001B[0;34m\u001B[0m\u001B[0m\n\u001B[1;32m      4\u001B[0m \u001B[0;34m\u001B[0m\u001B[0m\n",
      "\u001B[0;31mModuleNotFoundError\u001B[0m: No module named 'sysdata.csv.csvfuturesdata'"
     ]
    }
   ],
   "source": [
    "from sysdata.csv.csvfuturesdata import csvFuturesData\n",
    "import matplotlib.pyplot as plt\n",
    "%matplotlib inline"
   ]
  },
  {
   "cell_type": "markdown",
   "metadata": {},
   "source": [
    "Work up a minimum example of a trend following system"
   ]
  },
  {
   "cell_type": "code",
   "execution_count": 6,
   "metadata": {
    "collapsed": true
   },
   "outputs": [],
   "source": [
    ""
   ]
  },
  {
   "cell_type": "markdown",
   "metadata": {},
   "source": [
    "Let's get some data\n",
    "\n",
    "We can get data from various places; however for now we're going to use\n",
    "prepackaged 'legacy' data stored in csv files"
   ]
  },
  {
   "cell_type": "code",
   "execution_count": 8,
   "metadata": {
    "collapsed": false
   },
   "outputs": [
    {
     "data": {
      "text/plain": [
       "FuturesData object with 38 instruments"
      ]
     },
     "execution_count": 8,
     "metadata": {},
     "output_type": "execute_result"
    }
   ],
   "source": [
    "data = csvFuturesData()\n",
    "data"
   ]
  },
  {
   "cell_type": "markdown",
   "metadata": {},
   "source": [
    "We get stuff out of data with methods"
   ]
  },
  {
   "cell_type": "code",
   "execution_count": 9,
   "metadata": {
    "collapsed": false
   },
   "outputs": [
    {
     "name": "stdout",
     "output_type": "stream",
     "text": [
      "['CORN', 'LEANHOG', 'LIVECOW', 'SOYBEAN', 'WHEAT', 'KR10', 'KR3', 'BOBL', 'BTP', 'BUND', 'OAT', 'SHATZ', 'US10', 'US2', 'US20', 'US5', 'V2X', 'VIX', 'KOSPI', 'AEX', 'CAC', 'SMI', 'NASDAQ', 'SP500', 'AUD', 'EUR', 'GBP', 'JPY', 'MXP', 'NZD', 'COPPER', 'GOLD', 'PALLAD', 'PLAT', 'CRUDE_W', 'GAS_US', 'EDOLLAR', 'EUROSTX']\n",
      "2016-11-07    98.5600\n",
      "2016-11-08    98.5100\n",
      "2016-11-09    98.2950\n",
      "2016-11-10    98.1600\n",
      "2016-11-11    98.1175\n",
      "Name: price, dtype: float64\n"
     ]
    }
   ],
   "source": [
    "print(data.get_instrument_list())\n",
    "print(data.get_raw_price(\"EDOLLAR\").tail(5))"
   ]
  },
  {
   "cell_type": "markdown",
   "metadata": {},
   "source": [
    "data can also behave in a dict like manner (though it's not a dict)"
   ]
  },
  {
   "cell_type": "code",
   "execution_count": 27,
   "metadata": {
    "collapsed": false
   },
   "outputs": [
    {
     "data": {
      "text/plain": [
       "1997-09-10    1047.6725\n",
       "1997-09-11    1040.6725\n",
       "1997-09-12    1056.6725\n",
       "1997-09-15    1054.6725\n",
       "1997-09-16    1078.6725\n",
       "1997-09-17    1078.6725\n",
       "1997-09-18    1080.6725\n",
       "1997-09-19    1083.6725\n",
       "1997-09-22    1088.6725\n",
       "1997-09-23    1084.6725\n",
       "1997-09-24    1077.6725\n",
       "1997-09-25    1069.6725\n",
       "1997-09-26    1075.6725\n",
       "1997-09-29    1084.6725\n",
       "1997-09-30    1076.6725\n",
       "1997-10-01    1086.6725\n",
       "1997-10-02    1091.6725\n",
       "1997-10-03    1097.6725\n",
       "1997-10-06    1104.6725\n",
       "1997-10-07    1112.6725\n",
       "1997-10-08    1105.6725\n",
       "1997-10-09    1100.6725\n",
       "1997-10-10    1099.6725\n",
       "1997-10-13    1098.6725\n",
       "1997-10-14    1099.6725\n",
       "1997-10-15    1096.6725\n",
       "1997-10-16    1082.6725\n",
       "1997-10-17    1071.6725\n",
       "1997-10-20    1085.6725\n",
       "1997-10-21    1101.6725\n",
       "                ...    \n",
       "2016-10-03    2153.5000\n",
       "2016-10-04    2144.7500\n",
       "2016-10-05    2153.5000\n",
       "2016-10-06    2156.5000\n",
       "2016-10-07    2146.5000\n",
       "2016-10-10    2159.2500\n",
       "2016-10-11    2134.5000\n",
       "2016-10-12    2131.5000\n",
       "2016-10-13    2126.5000\n",
       "2016-10-14    2127.0000\n",
       "2016-10-17    2123.8750\n",
       "2016-10-18    2132.2500\n",
       "2016-10-19    2138.5000\n",
       "2016-10-20    2137.0000\n",
       "2016-10-21    2134.7500\n",
       "2016-10-24    2144.5000\n",
       "2016-10-25    2138.5000\n",
       "2016-10-26    2133.7500\n",
       "2016-10-27    2124.0000\n",
       "2016-10-28    2123.7500\n",
       "2016-10-31    2123.5000\n",
       "2016-11-01    2102.0000\n",
       "2016-11-02    2090.2500\n",
       "2016-11-03    2083.2500\n",
       "2016-11-04    2081.5000\n",
       "2016-11-07    2130.0000\n",
       "2016-11-08    2134.7500\n",
       "2016-11-09    2160.5000\n",
       "2016-11-10    2166.7500\n",
       "2016-11-11    2150.8750\n",
       "Name: price, Length: 5003, dtype: float64"
      ]
     },
     "execution_count": 27,
     "metadata": {},
     "output_type": "execute_result"
    }
   ],
   "source": [
    "data['SP500']"
   ]
  },
  {
   "cell_type": "code",
   "execution_count": 28,
   "metadata": {
    "collapsed": false
   },
   "outputs": [
    {
     "data": {
      "text/plain": [
       "['CORN',\n",
       " 'LEANHOG',\n",
       " 'LIVECOW',\n",
       " 'SOYBEAN',\n",
       " 'WHEAT',\n",
       " 'KR10',\n",
       " 'KR3',\n",
       " 'BOBL',\n",
       " 'BTP',\n",
       " 'BUND',\n",
       " 'OAT',\n",
       " 'SHATZ',\n",
       " 'US10',\n",
       " 'US2',\n",
       " 'US20',\n",
       " 'US5',\n",
       " 'V2X',\n",
       " 'VIX',\n",
       " 'KOSPI',\n",
       " 'AEX',\n",
       " 'CAC',\n",
       " 'SMI',\n",
       " 'NASDAQ',\n",
       " 'SP500',\n",
       " 'AUD',\n",
       " 'EUR',\n",
       " 'GBP',\n",
       " 'JPY',\n",
       " 'MXP',\n",
       " 'NZD',\n",
       " 'COPPER',\n",
       " 'GOLD',\n",
       " 'PALLAD',\n",
       " 'PLAT',\n",
       " 'CRUDE_W',\n",
       " 'GAS_US',\n",
       " 'EDOLLAR',\n",
       " 'EUROSTX']"
      ]
     },
     "execution_count": 28,
     "metadata": {},
     "output_type": "execute_result"
    }
   ],
   "source": [
    "data.keys()"
   ]
  },
  {
   "cell_type": "markdown",
   "metadata": {},
   "source": [
    "... however this will only access prices\n",
    "(note these prices have already been backadjusted for rolls)\n",
    "\n",
    "We have extra futures data here"
   ]
  },
  {
   "cell_type": "code",
   "execution_count": 29,
   "metadata": {
    "collapsed": false
   },
   "outputs": [
    {
     "data": {
      "text/html": [
       "<div>\n",
       "<style>\n",
       "    .dataframe thead tr:only-child th {\n",
       "        text-align: right;\n",
       "    }\n",
       "\n",
       "    .dataframe thead th {\n",
       "        text-align: left;\n",
       "    }\n",
       "\n",
       "    .dataframe tbody tr th {\n",
       "        vertical-align: top;\n",
       "    }\n",
       "</style>\n",
       "<table border=\"1\" class=\"dataframe\">\n",
       "  <thead>\n",
       "    <tr style=\"text-align: right;\">\n",
       "      <th></th>\n",
       "      <th>PRICE</th>\n",
       "      <th>CARRY</th>\n",
       "      <th>CARRY_CONTRACT</th>\n",
       "      <th>PRICE_CONTRACT</th>\n",
       "    </tr>\n",
       "  </thead>\n",
       "  <tbody>\n",
       "    <tr>\n",
       "      <th>2016-11-04</th>\n",
       "      <td>98.6250</td>\n",
       "      <td>98.675</td>\n",
       "      <td>201906</td>\n",
       "      <td>201909</td>\n",
       "    </tr>\n",
       "    <tr>\n",
       "      <th>2016-11-07</th>\n",
       "      <td>98.5600</td>\n",
       "      <td>98.610</td>\n",
       "      <td>201906</td>\n",
       "      <td>201909</td>\n",
       "    </tr>\n",
       "    <tr>\n",
       "      <th>2016-11-08</th>\n",
       "      <td>98.5100</td>\n",
       "      <td>98.565</td>\n",
       "      <td>201906</td>\n",
       "      <td>201909</td>\n",
       "    </tr>\n",
       "    <tr>\n",
       "      <th>2016-11-09</th>\n",
       "      <td>98.2950</td>\n",
       "      <td>98.365</td>\n",
       "      <td>201906</td>\n",
       "      <td>201909</td>\n",
       "    </tr>\n",
       "    <tr>\n",
       "      <th>2016-11-10</th>\n",
       "      <td>98.1600</td>\n",
       "      <td>98.230</td>\n",
       "      <td>201906</td>\n",
       "      <td>201909</td>\n",
       "    </tr>\n",
       "    <tr>\n",
       "      <th>2016-11-11</th>\n",
       "      <td>98.1175</td>\n",
       "      <td>NaN</td>\n",
       "      <td>201906</td>\n",
       "      <td>201909</td>\n",
       "    </tr>\n",
       "  </tbody>\n",
       "</table>\n",
       "</div>"
      ],
      "text/plain": [
       "              PRICE   CARRY CARRY_CONTRACT PRICE_CONTRACT\n",
       "2016-11-04  98.6250  98.675         201906         201909\n",
       "2016-11-07  98.5600  98.610         201906         201909\n",
       "2016-11-08  98.5100  98.565         201906         201909\n",
       "2016-11-09  98.2950  98.365         201906         201909\n",
       "2016-11-10  98.1600  98.230         201906         201909\n",
       "2016-11-11  98.1175     NaN         201906         201909"
      ]
     },
     "execution_count": 29,
     "metadata": {},
     "output_type": "execute_result"
    }
   ],
   "source": [
    "data.get_instrument_raw_carry_data(\"EDOLLAR\").tail(6)"
   ]
  },
  {
   "cell_type": "markdown",
   "metadata": {},
   "source": [
    "Technical note: csvFuturesData inherits from FuturesData which itself inherits\n",
    "from Data\n",
    "The chain is 'data specific' <- 'asset class specific' <- 'generic'\n",
    "\n",
    "So there are also\n",
    "\n",
    "In principal there could be an equities data\n",
    "\n",
    "Let's create a simple trading rule\n",
    "\n",
    "No capping or scaling"
   ]
  },
  {
   "cell_type": "code",
   "execution_count": 13,
   "metadata": {
    "collapsed": true
   },
   "outputs": [],
   "source": [
    "import pandas as pd\n",
    "from syscore.algos import robust_vol_calc\n",
    "\n",
    "\n",
    "def calc_ewmac_forecast(price, Lfast, Lslow=None):\n",
    "    \"\"\"\n",
    "    Calculate the ewmac trading fule forecast, given a price and EWMA speeds\n",
    "    Lfast, Lslow and vol_lookback\n",
    "\n",
    "    \"\"\"\n",
    "    # price: This is the stitched price series\n",
    "    # We can't use the price of the contract we're trading, or the volatility\n",
    "    # will be jumpy\n",
    "    # And we'll miss out on the rolldown. See\n",
    "    # http://qoppac.blogspot.co.uk/2015/05/systems-building-futures-rolling.html\n",
    "\n",
    "    price = price.resample(\"1B\").last()\n",
    "\n",
    "    if Lslow is None:\n",
    "        Lslow = 4 * Lfast\n",
    "\n",
    "    # We don't need to calculate the decay parameter, just use the span\n",
    "    # directly\n",
    "    fast_ewma = price.ewm(span=Lfast).mean()\n",
    "    slow_ewma = price.ewm(span=Lslow).mean()\n",
    "    raw_ewmac = fast_ewma - slow_ewma\n",
    "    vol = robust_vol_calc(price.diff())\n",
    "    return raw_ewmac / vol"
   ]
  },
  {
   "cell_type": "markdown",
   "metadata": {},
   "source": [
    "\n",
    "Try it out\n",
    "\n",
    "(this isn't properly scaled at this stage of course)\n"
   ]
  },
  {
   "cell_type": "code",
   "execution_count": 38,
   "metadata": {
    "collapsed": false
   },
   "outputs": [
    {
     "data": {
      "text/plain": [
       "2016-11-07    0.100716\n",
       "2016-11-08   -0.011247\n",
       "2016-11-09   -0.237658\n",
       "2016-11-10   -0.513974\n",
       "2016-11-11   -0.835147\n",
       "Freq: B, dtype: float64"
      ]
     },
     "execution_count": 38,
     "metadata": {},
     "output_type": "execute_result"
    }
   ],
   "source": [
    "instrument_code = 'EDOLLAR'\n",
    "price = data.daily_prices(instrument_code)\n",
    "ewmac = calc_ewmac_forecast(price, 32, 128)\n",
    "ewmac.columns = ['forecast']\n",
    "ewmac.tail(5)"
   ]
  },
  {
   "cell_type": "code",
   "execution_count": 39,
   "metadata": {
    "collapsed": false
   },
   "outputs": [
    {
     "data": {
      "text/plain": [
       "<matplotlib.text.Text at 0x111b35f98>"
      ]
     },
     "execution_count": 39,
     "metadata": {},
     "output_type": "execute_result"
    },
    {
     "data": {
      "image/png": "[encoded data removed]",
      "text/plain": [
       "<matplotlib.figure.Figure at 0x111cf7588>"
      ]
     },
     "metadata": {},
     "output_type": "display_data"
    }
   ],
   "source": [
    "ewmac.plot();\n",
    "plt.title('Forecast')\n",
    "plt.ylabel('Position')\n",
    "plt.xlabel('Time')"
   ]
  },
  {
   "cell_type": "markdown",
   "metadata": {},
   "source": [
    "\n",
    "Did we make money?\n"
   ]
  },
  {
   "cell_type": "code",
   "execution_count": 45,
   "metadata": {
    "collapsed": true
   },
   "outputs": [],
   "source": [
    "accountCurve?"
   ]
  },
  {
   "cell_type": "code",
   "execution_count": 48,
   "metadata": {
    "collapsed": false,
    "scrolled": false
   },
   "outputs": [
    {
     "data": {
      "image/png": "[encoded data removed]",
      "text/plain": [
       "<matplotlib.figure.Figure at 0x111df3e48>"
      ]
     },
     "metadata": {},
     "output_type": "display_data"
    }
   ],
   "source": [
    "from syscore.accounting import accountCurve\n",
    "account = accountCurve(price, forecast=ewmac)\n",
    "account.curve().plot();\n",
    "plt.title('Profit and Loss')\n",
    "plt.ylabel('PnL')\n",
    "plt.xlabel('Time');"
   ]
  },
  {
   "cell_type": "code",
   "execution_count": 24,
   "metadata": {
    "collapsed": false
   },
   "outputs": [
    {
     "data": {
      "text/plain": [
       "[[('min', '-7.911'),\n",
       "  ('max', '5.22'),\n",
       "  ('median', '0'),\n",
       "  ('mean', '0.01602'),\n",
       "  ('std', '0.515'),\n",
       "  ('skew', '-0.5705'),\n",
       "  ('ann_mean', '4.102'),\n",
       "  ('ann_std', '8.24'),\n",
       "  ('sharpe', '0.4978'),\n",
       "  ('sortino', '0.5583'),\n",
       "  ('avg_drawdown', '-11.93'),\n",
       "  ('time_in_drawdown', '0.9735'),\n",
       "  ('calmar', '0.1237'),\n",
       "  ('avg_return_to_drawdown', '0.3439'),\n",
       "  ('avg_loss', '-0.3289'),\n",
       "  ('avg_gain', '0.3399'),\n",
       "  ('gaintolossratio', '1.033'),\n",
       "  ('profitfactor', '1.118'),\n",
       "  ('hitrate', '0.5195'),\n",
       "  ('t_stat', '2.891'),\n",
       "  ('p_value', '0.003851')],\n",
       " ('You can also plot / print:',\n",
       "  ['rolling_ann_std', 'drawdown', 'curve', 'percent', 'cumulative'])]"
      ]
     },
     "execution_count": 24,
     "metadata": {},
     "output_type": "execute_result"
    }
   ],
   "source": [
    "account.percent().stats()"
   ]
  },
  {
   "cell_type": "code",
   "execution_count": null,
   "metadata": {
    "collapsed": true
   },
   "outputs": [],
   "source": [
    ""
   ]
  }
 ],
 "metadata": {
  "kernelspec": {
   "display_name": "Python 3",
   "language": "python",
   "name": "python3"
  },
  "language_info": {
   "codemirror_mode": {
    "name": "ipython",
    "version": 3.0
   },
   "file_extension": ".py",
   "mimetype": "text/x-python",
   "name": "python",
   "nbconvert_exporter": "python",
   "pygments_lexer": "ipython3",
   "version": "3.4.5"
  }
 },
 "nbformat": 4,
 "nbformat_minor": 0
}